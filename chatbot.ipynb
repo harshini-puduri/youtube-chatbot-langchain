{
 "cells": [
  {
   "cell_type": "code",
   "execution_count": 2,
   "id": "b9ce54f4",
   "metadata": {},
   "outputs": [
    {
     "data": {
      "text/plain": [
       "True"
      ]
     },
     "execution_count": 2,
     "metadata": {},
     "output_type": "execute_result"
    }
   ],
   "source": [
    "from dotenv import load_dotenv\n",
    "load_dotenv()"
   ]
  },
  {
   "cell_type": "code",
   "execution_count": 3,
   "id": "3d9fb0e4",
   "metadata": {},
   "outputs": [],
   "source": [
    "import os\n",
    "os.environ[\"OPENAI_API_KEY\"] = os.getenv(\"OPENAI_API_KEY\")"
   ]
  },
  {
   "cell_type": "code",
   "execution_count": 4,
   "id": "1388d9f8",
   "metadata": {},
   "outputs": [],
   "source": [
    "from youtube_transcript_api import YouTubeTranscriptApi, TranscriptsDisabled\n",
    "from langchain_text_splitters import RecursiveCharacterTextSplitter\n",
    "from langchain_openai import OpenAIEmbeddings, ChatOpenAI\n",
    "from langchain_community.vectorstores import FAISS\n",
    "from langchain_core.prompts import PromptTemplate"
   ]
  },
  {
   "cell_type": "code",
   "execution_count": 5,
   "id": "17efd30c",
   "metadata": {},
   "outputs": [
    {
     "name": "stdout",
     "output_type": "stream",
     "text": [
      "Chris Anderson: Sam, welcome to TED. Thank you so much for coming. Sam Altman: Thank you. It's an honor. CA: Your company has been releasing\n",
      "crazy insane new models   pretty much every other week\n",
      "it feels like. I've been playing with a couple of them. I'd like to show you\n",
      "what I've been playing. So, Sora, this is the image\n",
      "and video generator. I asked Sora this: What will it look like when you share\n",
      "some shocking revelations here at TED? You want to see\n",
      "how it imagined it, you know? (Laughter) I mean, not bad, right? How would you grade that? Five fingers on all hands. SA: Very close to what I'm wearing,\n",
      "you know, it's good. CA: I've never seen you\n",
      "quite that animated. SA: No, I'm not that animated of a person. CA: So maybe a B-plus. But this one genuinely astounded me. When I asked it to come up with a diagram that shows the difference\n",
      "between intelligence and consciousness. Like  how would you do that? This is what it did. I mean, this is so simple,\n",
      "but it's incredible. What is the kind of process\n",
      "that would allow -- like this is clearly not just\n",
      "image generation. It's linking into the core intelligences\n",
      "that your overall model has. SA: Yeah, the new image\n",
      "generation model is part of GPT-4o, so it's got all\n",
      "of the intelligence in there. And I think that's one of the reasons it's been able to do these things\n",
      "that people really love. CA: I mean, if I'm a management consultant\n",
      "and I'm playing with some of this stuff, I'm thinking, uh oh,\n",
      "what does my future look like? SA: I mean, I think there are\n",
      "sort of two views you can take. You can say, oh, man,\n",
      "it's doing everything I do. What's going to happen to me? Or you can say, like through every other\n",
      "technological revolution in history, OK, now there's this new tool. I can do a lot more. What am I going to be able to do? It is true that the expectation of what we’ll have for someone\n",
      "in a particular job increases, but the capabilities\n",
      "will increase so dramatically that I think it will be easy\n",
      "to rise to that occasion. CA: So this impressed me too. I asked it to imagine Charlie Brown\n",
      "as thinking of himself as an AI. It came up with this. I thought this was actually\n",
      "rather profound. What do you think? (Laughs) I mean, the writing quality\n",
      "of some of the new models, not just here, but in detail, is really going to a new level. SA: I mean, this is\n",
      "an incredible meta answer, but there's really no way to know\n",
      "if it is thinking that or it just saw that a lot of times\n",
      "in the training set. And of course like\n",
      "if you can’t tell the difference, how much do you care? CA: So that's really interesting. We don't know. Isn't there though ... like at first glance\n",
      "this looks like IP theft. Like you guys don’t have a deal\n",
      "with the “Peanuts” estate? (Applause) You can clap about that\n",
      "all you want, enjoy. (Laughter and murmuring) I will say that I think\n",
      "the creative spirit of humanity is an incredibly important thing, and we want to build\n",
      "tools that lift that up, that make it so that new people\n",
      "can create better art, better content, write better novels that we all enjoy. I believe very deeply that humans\n",
      "will be at the center of that. I also believe that we probably\n",
      "do need to figure out some sort of new model\n",
      "around the economics of creative output. I think people have been building\n",
      "on the creativity of others for a long time. People take inspiration for a long time. But as the access to creativity\n",
      "gets incredibly democratized and people are building off\n",
      "of each other's ideas all the time, I think there are incredible\n",
      "new business models that we and others are excited to explore. Exactly what that's going to look like, I'm not sure. Clearly, there’s some cut and dry stuff, like you can’t copy someone else’s work. But how much inspiration can you take? If you say, I want to generate art\n",
      "in the style of these seven people, all of whom have consented to that, how do you, like divvy up\n",
      "how much money goes to each one? These are like big questions. But every time throughout history we have put better\n",
      "and more powerful technology in the hands of creators. I think we collectively get\n",
      "better creative output and people do just more amazing stuff. CA: An even bigger question\n",
      "is when they haven't consented to it. In our opening session,\n",
      "Carole Cadwalladr, showed, you know, \"ChatGPT give a talk in the style\n",
      "of Carole Cadwalladr\" and sure enough, it gave a talk that wasn't quite as good\n",
      "as the talk she gave, but it was pretty impressive. And she said, \"OK, it's great,\n",
      "but I did not consent to this.\" How are we going to navigate this? Like isn’t there a way, should it just be people who’ve consented? Or shouldn’t there be a model that somehow says that any\n",
      "named individual in a prompt whose work is then used,\n",
      "they should get something for that? SA: So right now, if you use\n",
      "our image-gen thing and say, I want something in the style\n",
      "of a living artist, it won't do that. But if you say I want it in the style\n",
      "of this particular like kind of vibe, or this studio or this art movement\n",
      "or whatever, it will. And obviously if you’re like, you know, output a song that is like a copy\n",
      "of a song, it won't do that. The question of like\n",
      "where that line should be and how people say like,\n",
      "this is too much, we sorted that out before\n",
      "with copyright law and kind of what fair use looks like. Again, I think in the world of AI, there will be a new model\n",
      "that we figure out. CA: From the point of view, I mean, creative people are some\n",
      "of the angriest people right now or the most scared people about AI. And the difference between\n",
      "feeling your work is being stolen from you and your future is being stolen from you, and feeling your work is being amplified\n",
      "and can be amplified, those are such different feelings. And if we could shift\n",
      "to the other one, to the second one, I think that really changes how much\n",
      "humanity as a whole embraces all this. SA: Well, again, I would say\n",
      "some creative people are very upset. Some creatives are like,\n",
      "\"This is the most amazing tool ever, I'm doing incredible new work.\" But you know like\n",
      "it’s definitely a change. And I have a lot of like\n",
      "empathy to people who are just like, \"I wish this change weren't happening. I liked the way things were before.\" CA: But in principle, you can calculate\n",
      "from any given prompt how much ... there should be some way\n",
      "of being able to calculate what percentage of a subscription,\n",
      "revenue or whatever goes towards each answer. In principle, it should be possible if one could get the rest\n",
      "of the rules figured out. It's obviously complicated. You could calculate some kind\n",
      "of revenue share, no? SA: If you're a musician and you spend\n",
      "your whole life, your whole childhood, listening to music, and then you get an idea\n",
      "and you go compose a song that is inspired by what\n",
      "you've heard before, but a new direction, it'd be very hard for you to say like, this much was from this song\n",
      "I heard when I was 11. CA: That's right. But we're talking here about the situation where someone specifically\n",
      "in a prompt names someone. SA: Well, again,\n",
      "right now, if you try to like, go generate an image in a named style, we just say that artist\n",
      "is living, we don't do it. But I think it would be cool to figure out a new model\n",
      "where if you say, I want to do it in the name\n",
      "of this artist and they opt in, there's a revenue model there. I think that's a good thing to explore. CA: So, I think the world should help you\n",
      "figure out that model quickly. And I think it will make\n",
      "a huge difference actually. I want to switch topics quickly. (Applause) The battle between\n",
      "your model and open source. How much were you shaken up\n",
      "by the arrival of DeepSeek? SA: I think open source\n",
      "has an important place. We actually, just last night,\n",
      "hosted our first community session to kind of decide the parameters\n",
      "of our open-source model and how we want to shape it. We're going to do a very\n",
      "powerful open-source model. I think this is important. We're going to do something\n",
      "near the frontier, I think, better than any current\n",
      "open-source model out there. This will not be all -- there will be people who will use this\n",
      "in ways that some people in this room, maybe you or I, don’t like. But there is going to be an important\n",
      "place for open-source models as part of the constellation here. And, you know, I think\n",
      "we were late to act on that, but we're going to do it really well now. CA: I mean, you're spending\n",
      "it seems, like an order, or even orders of magnitude more\n",
      "than DeepSeek allegedly spent, although I know there's\n",
      "controversy around that. Are you confident that the actual\n",
      "better model is going to be recognized? Or are you actually like, isn't this in some ways life-threatening\n",
      "to the notion that, yeah, by going to massive scale,\n",
      "tens of billions of dollars of investment, we can maintain an incredible lead. SA: All day long, I call people\n",
      "and beg them to give us their GPUs. We are so incredibly constrained. Our growth is going like this. DeepSeek launched,\n",
      "and it didn’t seem to impact it. There's other stuff that's happening. CA: Tell us about the growth, actually. You gave me a shocking\n",
      "number backstage there. SA: I have never seen\n",
      "growth in any company, one that I've been involved with or not, like this, like the growth of ChatGPT. It's really fun. I feel like great, deeply honored. But it is crazy to live through, and our teams are exhausted and stressed. And we’re trying to keep things up. CA: How many users do you have now? SA: I think the last time we said\n",
      "was 500 million weekly actives, and it is growing very rapidly. CA: I mean, you told me that like\n",
      "doubled in just a few weeks. Like in terms of compute\n",
      "or in terms of ... SA: I said that privately, but I guess ... CA: Oh. (Laughter) I misremembered, Sam, I'm sorry. We can edit that out of the thing\n",
      "if you really want to. And no one here would tweet it. SA: It's growing very fast. (Laughter) CA: So you're confident,\n",
      "you're seeing it grow, take off like a rocket ship, you're releasing incredible\n",
      "new models all the time. What are you seeing in your best\n",
      "internal models right now that you haven't yet shared with the world but you would love to here on this stage? SA: So first of all, you asked about, are we worried about this\n",
      "model or that model? There will be a lot\n",
      "of intelligent models in the world. Very smart models will be\n",
      "commoditized to some degree. I think we’ll have the best, and for some use you'll want that. But like, honestly,\n",
      "the models are now so smart that for most of the things\n",
      "most people want to do, they're good enough. I hope that'll change over time because people will raise\n",
      "their expectations. But like, if you're kind of\n",
      "using ChatGPT as a standard user, the model capability is very smart. But we have to build a great product, not just a great model. And so there will be a lot of people\n",
      "with great models, and we will try to build the best product. And people want their image-gen, you know, you saw some\n",
      "Sora examples for video earlier. They want to integrate it\n",
      "with all their stuff. We just launched a new feature,\n",
      "it's still called Memory, but it's way better\n",
      "than the Memory before, where this model will get to know you\n",
      "over the course of your lifetime. And we have a lot more stuff\n",
      "to come to build like this great integrated product. And, you know, I think\n",
      "people will stick with that. So there will be many models,\n",
      "but I think we will, I hope, continue to focus on building the best\n",
      "defining product in this space. CA: I mean after I saw\n",
      "your announcement yesterday that ChatGPT will know all\n",
      "of your query history, I entered, \"Tell me about me, ChatGPT, from all you know.\" And my jaw dropped, Sam, it was shocking. It knew who I was\n",
      "and all these sort of interests that hopefully mostly were\n",
      "pretty much appropriate and shareable. But it was astonishing. And I felt the sense of real excitement, a little bit queasy, but mainly excitement, actually, at how much more that would allow it\n",
      "to be useful to me. SA: One of our researchers\n",
      "tweeted, you know, kind of like yesterday or this morning, that the upload happens bit by bit. It’s not you know, that you plug\n",
      "your brain in one day. But you will talk to ChatGPT\n",
      "over the course of your life and some day, maybe if you want, it'll be listening to you\n",
      "throughout the day and sort of observing what you're doing, and it'll get to know you and it'll become this extension\n",
      "of yourself, this companion, this thing that just tries to,\n",
      "like, help you be the best, do the best you can. CA: In the movie \"Her,\" the AI basically announces\n",
      "that she's read all of his emails and decided he's a great writer and you know, persuades\n",
      "a publisher to publish him. That might be coming\n",
      "sooner than we think. SA: I don't think it will happen\n",
      "exactly like that, but yeah, I think something\n",
      "in the direction where AI -- you don’t have to just,\n",
      "like, go to ChatGPT or whatever and say, I have a question,\n",
      "give me an answer. But you're getting like,\n",
      "proactively pushed things that help you, that make you better or whatever. That does seem like it's soon. CA: So what have you seen\n",
      "that's coming up, internally, that you think is going\n",
      "to blow people's minds? Give us at least a hint\n",
      "of what the next big jaw dropper is. SA: The thing that I'm personally\n",
      "most excited about is AI for science at this point. I am a big believer that the most important\n",
      "driver of the world and people's lives getting better\n",
      "and better is new scientific discovery. We can do more things with less, we sort of push back the frontier\n",
      "of what's possible. We're starting to hear\n",
      "a lot from scientists with our latest models that they're actually just more productive\n",
      "than they were before. That's actually mattering\n",
      "to what they can discover. CA: What’s the plausible near-term\n",
      "discovery, like, room temperature -- SA: Superconductors? CA: Superconducting, yeah. Is that possible? SA: I don't think that's prevented\n",
      "by the laws of physics. So it should be possible. But we don't know for sure. I think you'll start to see some ... meaningful progress against disease\n",
      "with AI-assisted tools. You know, physics maybe\n",
      "takes a little bit longer, but I hope for it. So that's like, one direction. Another that I think is big\n",
      "is starting pretty soon, like in the coming months. Software development\n",
      "has already been pretty transformed. Like it’s quite amazing how different\n",
      "the process of creating software is now than it was two years ago. But I expect like another move\n",
      "that big in the coming months as agentic software engineering\n",
      "really starts to happen. CA: I've heard engineers say\n",
      "that they've had almost like religious-like moments\n",
      "with some of the new models where suddenly, they can do\n",
      "in an afternoon what would have taken them two years. SA: Yeah, it's like mind -- it really like, that’s been one\n",
      "of my big “feel the AGI” moments. CA: But talk about what\n",
      "is the scariest thing that you've seen. Because like, outside, a lot of people picture you as,\n",
      "you know, you have access to this stuff. And we hear all these rumors\n",
      "coming out of AI, and it's like, \"Oh my God,\n",
      "they've seen consciousness,\" or \"They've seen AGI,\" or \"They've seen some kind\n",
      "of apocalypse coming.\" Have you seen, has there been a scary moment when you've seen something\n",
      "internally and thought, \"Uh oh, we need to pay attention to this?\" SA: There have been like moments of awe. And I think with that is always like,\n",
      "how far is this going to go? What is this going to be? But there's no like,\n",
      "we don't secretly have, we're not secretly sitting\n",
      "on a conscious model or something that's capable of self-improvement\n",
      "or anything like that. You know, I ... people have very different views of what\n",
      "the big AI risks are going to be. And I myself have like\n",
      "evolved on thinking about where we're going to see those. I continue to believe there will come\n",
      "very powerful models that people can misuse in big ways. People talk a lot about the potential\n",
      "for new kinds of bioterror, models that can present\n",
      "like a real cybersecurity challenge, models that are capable\n",
      "of self-improvement in a way that leads\n",
      "to some sort of loss of control. So I think there are big risks there. And then there's a lot of other stuff, which honestly is kind of\n",
      "what I think, many people mean, where people talk about disinformation or models saying things\n",
      "that they don't like or things like that. CA: Sticking with the first of those, do you check for that\n",
      "internally before release? SA: Of course, yeah. So we have this preparedness framework that outlines how we do that. CA: I mean, you've had some\n",
      "departures from your safety team. How many people have departed,\n",
      "why have they left? SA: We have, I don't know\n",
      "the exact number, but there are clearly different views\n",
      "about AI safety systems. I would really point to our track record. There are people who will say\n",
      "all sorts of things. You know, something like 10 percent\n",
      "of the world uses our systems now a lot. And we are very proud\n",
      "of the safety track record. CA: But track record\n",
      "isn't the issue in a way -- SA: No, it kind of is. CA: Because we're talking\n",
      "about an exponentially growing power where we fear that we may wake up one day and the world is ending. So it's really not about track record, it's about plausibly saying\n",
      "that the pieces are in place to shut things down quickly\n",
      "if we see a danger. SA: Yeah, no, of course,\n",
      "of course that's important. You don't, like, wake up one day and say, \"Hey, we didn't have\n",
      "any safety process in place. Now we think the model is really smart. So now we have to care about safety.\" You have to care about it\n",
      "all along this exponential curve. Of course the stakes increase,\n",
      "and there are big challenges. But the way we learn\n",
      "how to build safe systems is this iterative process of deploying them to the world,\n",
      "getting feedback, while the stakes are relatively low,\n",
      "learning about like, this is something we have to address. And I think as we move\n",
      "into these agentic systems, there's a whole big category of new things\n",
      "we have to learn to address. CA: So let's talk about agentic systems\n",
      "and the relationship between that and AGI. I think there's confusion\n",
      "out there, I'm confused. So artificial general intelligence, it feels like ChatGPT is already\n",
      "a general intelligence. I can ask it about anything, and it comes back\n",
      "with an intelligent answer. Why isn't that AGI? SA: It doesn't ... First of all, you can't ask it anything. That's very nice of you to say, but there's a lot of things\n",
      "that it's still embarrassingly bad at. But even if we fixed those,\n",
      "which hopefully we will, it doesn't continuously learn and improve. It can't go get better at something that it's currently weak at. It can't go discover new science\n",
      "and update its understanding and do that. And it also kind of can't,\n",
      "even if we lower the bar, it can't just sort of do\n",
      "any knowledge work you could do in front of a computer. I actually, even without\n",
      "the sort of ability to get better at something\n",
      "it doesn't know yet, I might accept that\n",
      "as a definition of AGI. But the current systems, you can't say like, hey,\n",
      "go do this task for my job, and it goes off and clicks\n",
      "around the internet and calls someone and looks\n",
      "at your files and does it. And without that,\n",
      "it feels definitely short of it. CA: I mean, do you guys have internally\n",
      "a clear definition of what AGI is, and when do you think\n",
      "that we may be there? SA: It's like the joke, if you’ve got 10 OpenAI\n",
      "researchers in a room and ask to define AGI,\n",
      "you’d get 14 definitions. CA: That's worrying, though, isn't it? Because that has been\n",
      "the mission initially, “We’re going to be\n",
      "the first to get to AGI. We'll do so safely. But we don't have a clear\n",
      "definition of what it is.\" SA: I was going to finish the answer. CA: Sorry. SA: What I think matters though, and what people want to know\n",
      "is not where is this one, you know, magic moment of, “We finished.” But given that what looks\n",
      "like is going to happen is that the models are just going to get\n",
      "smarter and more capable and smarter and more capable, on this long exponential, different people will call it AGI\n",
      "at different points. But we all agree it’s going to go\n",
      "way, way past that. You know, to whatever you want\n",
      "to call these systems that get much more capable than we are. The thing that matters\n",
      "is how do we talk about a system that is safe through all\n",
      "of these steps and beyond, as the system gets\n",
      "more capable than we are, as the system can do things\n",
      "that we don't totally understand. And I think more important\n",
      "than when is AGI coming and what's the definition of it, it's recognizing that we are\n",
      "in this unbelievable exponential curve. And you can, you know,\n",
      "say this is what I think AGI is. You can say you think\n",
      "this is what you think AGI is. Someone else can say\n",
      "superintelligence is out here, but we're going to have to contend and get wonderful benefits\n",
      "from this incredible system. And so I think we should\n",
      "shift the conversation away from what's the AGI moment to a recognition that,\n",
      "like, this thing is not going to stop, it's going to go way beyond\n",
      "what any of us would call AGI. And we have to build a society\n",
      "to get the tremendous benefits of this and figure out how to make it safe. CA: Well, one of the conversations\n",
      "this week has been that the real change moment is -- I mean, AGI is a fuzzy thing,\n",
      "but what is clear is agentic AI -- when AI is set free\n",
      "to pursue projects on its own and to put the pieces together -- you’ve actually, you've got a thing called Operator\n",
      "which starts to do this. And I tried it out. You know, I wanted to book a restaurant, and it's kind of incredible. It kind of can go ahead and do it,\n",
      "but this is what it said. You know, it was an intriguing process. And, you know, “Give me your credit\n",
      "card” and everything else, and I declined on this case to go forward. But I think this is the challenge\n",
      "that people are going to have. It's kind of like,\n",
      "it's an incredible superpower. It's a little bit scary. And Yoshua Bengio, when he spoke here, said that agentic AI is the thing\n",
      "to pay attention to. This is when everything could go wrong\n",
      "as we give power to AI to go out onto the internet to do stuff. I mean, going out onto the internet\n",
      "was always, in the sci-fi stories, the moment where, you know, escape happened and potential --\n",
      "things could go horribly wrong. How do you both release agentic AI and have guardrails in place\n",
      "that it doesn't go too far? SA: First of all, obviously you\n",
      "can choose not to do this and say, I don't want this. I'm going\n",
      "to call the restaurant and read them my credit card\n",
      "over the phone. CA: I could choose,\n",
      "but someone else might say, “Oh, go out, ChatGPT\n",
      "onto the internet at large and rewrite the internet to make it \n",
      "better for humans,” or whatever. SA: The point I was going to make\n",
      "is just with any new technology, it takes a while for people\n",
      "to get comfortable. I remember when I wouldn't\n",
      "put my credit card on the internet because my parents had convinced me\n",
      "someone was going to read the number, and you had to fill out the form\n",
      "and then call them. And then we kind of all said, OK, we’ll build anti-fraud systems,\n",
      "and we can get comfortable with this. I think people are going to be slow\n",
      "to get comfortable with agentic AI in many ways. But I also really agree\n",
      "with what you said, which is that even if some people\n",
      "are comfortable with it and some aren't, we are going to have AI systems\n",
      "clicking around the internet. And this is, I think, the most interesting and consequential\n",
      "safety challenge we have yet faced. Because AI that you give access\n",
      "to your systems, your information, your ability to click around\n",
      "on your computer, now, those, you know, when AI makes a mistake,\n",
      "it's much higher stakes. It is the gate on -- so we talked earlier\n",
      "about safety and capability. I kind of think they're increasingly\n",
      "becoming one-dimensional. Like a good product is a safe product. You will not use our agents if you do not trust\n",
      "that they’re not going to like empty your bank account\n",
      "or delete your data or who knows what else. And so people want to use agents\n",
      "that they can really trust, that are really safe. And I think we are gated\n",
      "on our ability to make progress on our ability to do that. But it's a fundamental part\n",
      "of the product. CA: In a world where agency is out there and say that, you know,\n",
      "maybe it’s open models are widely distributed\n",
      "and someone says,  \"OK, AGI, I want you to go out onto the internet and, you know, spread a meme however you can that X people are evil,”\n",
      "or whatever it is. It doesn't have to be\n",
      "an individual choice. A single person could let that agent\n",
      "out there, and the agent could decide, \"Well, in order to execute\n",
      "on that function, I've got to copy myself everywhere,\" and, you know. Are there red lines that you have\n",
      "clearly drawn internally, where you know what\n",
      "the danger moments are, and that we cannot put out\n",
      "something that could go beyond this? SA: Yeah, so this is the purpose\n",
      "of our preparedness framework. And we'll update that over time. But we’ve tried to outline where we think\n",
      "the most important danger moments are, or what the categories are,\n",
      "how we measure that, and how we would mitigate something\n",
      "before releasing it. I can tell from the conversation\n",
      "you're not a big AI fan. CA: Actually, on the contrary,\n",
      "I use it every day. I'm awed by it. I think this is an incredible\n",
      "time to be alive. I wouldn't be alive any other time, and I cannot wait to see where it goes. We've been holding ... I think it's essential to hold ... like we can’t divide people\n",
      "into those camps. You have to hold a passionate\n",
      "belief in the possibility, but not be overseduced by it because things could go horribly wrong. (Applause) SA: What I was going to say\n",
      "is I totally understand that. I totally understand looking at this and saying this is an unbelievable\n",
      "change coming to the world. And, you know, maybe I don't want this,\n",
      "or maybe I love parts of it. Maybe I love talking to ChatGPT, but I worry about what's going\n",
      "to happen to art, and I worry about the pace of change, and I worry about these agents\n",
      "clicking around the internet. And maybe, on balance, I wish this weren't happening. Or maybe I wish it were\n",
      "happening a little slower. Or maybe I wish it were happening in a way where I could pick and choose what parts\n",
      "of progress were going to happen. And I think, the fear is totally rational. Sort of, the anxiety is totally rational. We all have a lot of it, too. But ... A, there will be tremendous upside. Obviously, you know,\n",
      "you use it every day, you like it. B ... I really believe that society\n",
      "figures out, over time, with some big mistakes along the way,\n",
      "how to get technology right. And C, this is going to happen. This is like a discovery\n",
      "of fundamental physics that the world now knows about. And it's going to be part of our world. And I think this conversation\n",
      "is really important. I think talking about these\n",
      "areas of danger [is] really important to talk about. New economic models are really important. But we have to embrace this\n",
      "with like, caution but not fear, or we will get run by with other people\n",
      "that use AI to do better. CA: You've actually been one of the most\n",
      "eloquent proponents of safety. You testified in the Senate. I think you said basically that we should form a new safety agency that licenses any effort, ie. it will refuse\n",
      "to license certain efforts. Do you still believe\n",
      "in that policy proposal? SA: I have learned more\n",
      "about how the government works. I don't think this is quite\n",
      "the right policy proposal. CA: What is the right policy proposal? SA: But, I do think the idea\n",
      "that as these systems get more advanced and have legitimate global impact, we need some way, you know, maybe the companies themselves\n",
      "put together the right framework or the right sort of model for this,\n",
      "but we need some way that very advanced models\n",
      "have external safety testing. And we understand when we get close\n",
      "to some of these danger zones. I very much still believe in that. CA: Struck me as ironic\n",
      "that a safety agency might be what we want, and yet agency is\n",
      "the very thing that is unsafe. There's something odd\n",
      "about the language there, but anyway. SA: Can I say one more thing on that? I do think this concept of we need to define\n",
      "rigorous testing for models, understand what the threats\n",
      "that we, collectively, society, most want to focus on, and make sure that as models\n",
      "are getting more capable, we have a system where we all\n",
      "get to understand what's being released in the world. I think this is really important. And I think we’re not far away\n",
      "from models that are going to be of great public interest in that sense. CA: So Sam, I asked\n",
      "your o1-pro reasoning model, which is incredibly -- SA: Thank you for the 200 dollars. CA: (Laughs) 200 dollars a month. It's a bargain at the price. I said, what is the single most\n",
      "penetrating question I could ask you? It thought about it for two minutes. Two minutes. You want to see the question? SA: I do. CA: \"Sam, given that you're\n",
      "helping create technology that could reshape the destiny\n",
      "of our entire species, who granted you (or anyone)\n",
      "the moral authority to do that?” (Laughter) \"And how are you personally\n",
      "accountable if you're wrong?\" SA: No, it was good. CA: That was impressive. SA: You've been asking me versions\n",
      "of this for the last half hour. What do you think? (Laughter and applause) CA: What I would say is this. Here's my version of that question. SA: But no answer? CA: What was your question to me? SA: How would you answer that one? CA: In your shoes? SA: Or as an outsider. CA: I don't know. I am puzzled by you. I’m kind of awed by you. Because you’ve built one of the most\n",
      "astonishing things out there. There are two narratives\n",
      "about you out there. One is, you know, you are this incredible\n",
      "visionary who's done the impossible, and you shocked the world. With far fewer people than Google, you came out with something\n",
      "that was much more powerful than anything being done. I mean, it is amazing what you've built. But the other narrative\n",
      "is that you have shifted ground, that you've shifted from being OpenAI, this open thing, to the allure of building\n",
      "something super powerful. And you know, you’ve lost\n",
      "some of your key people. There's a narrative out there. Some people believe that you're not\n",
      "to be trusted in this space. I would love to know who you are. What is your narrative about yourself? What are your core values, Sam, that can give us, the world, confidence that someone with so much\n",
      "power here is entitled to it? SA: Look, I think like anyone else,\n",
      "I'm a nuanced character that doesn't reduce well\n",
      "to one dimension here. You know, probably some\n",
      "of the good things are true and probably some\n",
      "of the criticism is true. In terms of OpenAI, our goal is to make AGI and distribute it, make it safe, for the broad\n",
      "benefit of humanity. I think by all accounts,\n",
      "we have done a lot in that direction. Clearly our tactics\n",
      "have shifted over time. I think we didn't really know\n",
      "what we were going to be when we grew up. We didn't think we would have\n",
      "to build a company around this. We learned a lot about how it goes and the realities of what these systems\n",
      "were going to take from capital. But I think we've been, in terms of putting incredibly capable AI with a high degree of safety\n",
      "in the hands of a lot of people, and giving them tools to sort of do whatever amazing\n",
      "things they're going to do, I think it'd be hard to give us\n",
      "a bad grade on that. I do think it's fair that we should\n",
      "be open sourcing more. I think it was reasonable for all of the reasons\n",
      "that you asked earlier, as we weren't sure about the impact\n",
      "these systems were going to have and how to make them safe, that we acted with precaution. I think a lot of your questions earlier\n",
      "would suggest at least some sympathy to the fact that we've operated that way. But now I think we have a better\n",
      "understanding, as a world, and it is time for us to put very\n",
      "capable open systems out into the world. If you invite me back next year,\n",
      "you will probably yell at me for somebody who has misused\n",
      "these open-source systems, and say, \"Why did you do that?\" You know, \"You should have\n",
      "not gone back to your open roots.\" But, you know, there's trade offs\n",
      "in everything we do. And we are one player, one voice, in this AI revolution, trying to do the best we can and kind of steward this technology\n",
      "into the world in a responsible way. We've definitely made mistakes, we'll definitely make more in the future. On the whole, I think we have,\n",
      "over the last almost decade, it’s been a long time now, you know, we have mostly done\n",
      "the thing we’ve set out to do. We have a long way to go in front of us. Our tactics will shift more in the future, but adherence to this sort of mission and what we're trying to do,\n",
      "I think very strong. (Applause) CA: You posted this -- Well, OK, so here's the Ring of Power from \"Lord of the rings.\" Your rival, I will say,\n",
      "not your best friend at the moment, Elon Musk, claimed that, you know, he thought that you'd been corrupted\n",
      "by the Ring of Power. An allegation that, by the way -- (Laughter) SA: Hi, Steve. CA: An allegation that could\n",
      "be applied to Elon as well, you know, to be fair. But I'm curious, people, you have -- SA: I might respond.\n",
      "I'm thinking about it. I might say something. (Laughter) CA: It's in everyone's mind, as we see technology CEOs\n",
      "get more powerful, get richer, is can they handle it,\n",
      "or does it become irresistible? Does the power and the wealth\n",
      "make it impossible to sometimes do the right thing and you just have to cling\n",
      "tightly to that ring? What do you think? I mean, do you feel that ring sometimes? SA: How do you think I'm doing,\n",
      "relative to other CEOs, that have gotten a lot of power and changed how they act or done a bunch of stuff in the world, like how do you think? (Applause) CA: You have a beautiful ... you are not a rude, angry person who comes out and says\n",
      "aggressive things to other people. SA: Sometimes I do that. That's my single vice, you know? (Laughter) CA: No, I think in the way\n",
      "that you personally conduct yourself, it's impressive. I mean, the question some people ask is,\n",
      "is that the real you or, you know, is there something else going on? SA: No, I'll take the feedback. You put up the Sauron Ring of Power\n",
      "or whatever that thing is. So I'll take the feedback. What is like something I have done where you think\n",
      "I've been corrupted by power? CA: I think the fear is\n",
      "that just the transition of OpenAI to a for-profit model, is, you know, some people say,\n",
      "well, there you go. You got corrupted\n",
      "by the desire for wealth. You know, at one point there was going\n",
      "to be no equity in it. It will make you fabulously wealthy. By the way, I don't think\n",
      "that is your motivation, personally. I think you want to build stuff\n",
      "that is insanely cool. And what I worry about\n",
      "is the competitive feeling that you see other people doing it, and it makes it impossible\n",
      "to develop at the right pace. But you tell me, if you don't\n",
      "feel that, like, what ... so few people in the world have the kind\n",
      "of capability and potential you have, we don't know what it feels like. What does it feel like? SA: Shockingly, the same as before. I think you can get used\n",
      "to anything step by step. I think if I were like transported\n",
      "from 10 years ago to right now, all at once, it would feel very disorienting. But anything does become\n",
      "sort of the new normal, so it doesn't feel any different. And it's strange to be sitting here\n",
      "talking about this, but like, you know, the monotony of day-to-day life, which I mean in the best possible way, feels exactly the same. CA: You're the same person. SA: I mean, I'm sure\n",
      "I'm not in all sorts of ways, but I don't feel any different. CA: This was a beautiful thing\n",
      "you posted, your son. I mean, that last thing you said there,\n",
      "\"I've never felt love like this,\" I think any parent in the room\n",
      "so knows that feeling, that wild biological\n",
      "feeling that humans have and AIs never will, of you’re holding your kid. And I'm wondering whether\n",
      "that's changed how you think about things like if, you know,\n",
      "say, here's a red box, here's a black box\n",
      "with the red button on it, you can press that button and you give your son\n",
      "likely the most unbelievable life, but also you inject a 10 percent chance\n",
      "that he gets destroyed. Do you press that button? SA: In the literal case, no. If the question is, do I feel\n",
      "like I'm doing that with my work, the answer is, I also\n",
      "don't feel like that. Having a kid changed a lot of things. And by far the most amazing thing\n",
      "that has ever happened to me, like everything everybody says is true. A thing my cofounder Ilya\n",
      "said once is, I don’t know. This is a paraphrase, something like, \"I don't know what the meaning of life is, but for sure it has something\n",
      "to do with babies.\" And it's like, unbelievably accurate. It changed how much I’m willing to\n",
      "like spend time on certain things and like the kind of cost\n",
      "of not being with my kid is just like crazily high. And I ... But, you know, I really cared about\n",
      "like not destroying the world before. I really care about it now. I didn't need a kid for that part. (Applause) I mean, I definitely\n",
      "think more about like what the future will be like\n",
      "for him in particular, but I feel a responsibility\n",
      "to do the best thing I can for the future of everybody. CA: Tristan Harris gave\n",
      "a very powerful talk here this week in which he said that the key\n",
      "problem, in his view, was that you and your peers\n",
      "in these other models all feel basically, that the development\n",
      "of advanced AI is inevitable, that the race is on, and that there is no choice but to try and win that race and to do so as responsibly as you can. And maybe there’s a scenario where your superintelligent AI\n",
      "can act as a brake on everyone else's or something like that. But that the very fact that everyone\n",
      "believes it is inevitable, that is a pathway\n",
      "to serious risk and instability. Do you think that you and your peers\n",
      "do feel that it's inevitable, and can you see any pathway out of that where we could collectively agree to just slow things down a bit, have society as a whole\n",
      "weigh in a bit and say, no, you know, we don't want this\n",
      "to happen quite as fast. It's too disruptive. SA: First of all, I think people slow\n",
      "things down all the time because the technology is not ready, because something's not safe enough,\n",
      "because something doesn't work. There are, I think, all of the efforts hold on things, pause on things,\n",
      "delay on things, don't release certain capabilities. So I think this happens. And again, this is where I think\n",
      "the track record does matter. If we were rushing things out and there were all sorts of problems, either the product didn’t work\n",
      "as people wanted it to or there were real safety issues\n",
      "or other things there. And I will come back to a change we made,\n",
      "I think you could do that. There is communication between most\n",
      "of the efforts, with one exception. I think all of the efforts\n",
      "care a lot about AI safety. And I think that -- CA: Who's the exception? SA: I'm not going to say. And I think that there's really deep care to get this right. I think the caricature of this\n",
      "as just like this crazy race or sprint or whatever, misses the nuance of people are trying\n",
      "to put out models quickly and make great products for people. But people feel the impact\n",
      "of this so incredibly that ... you know, I think if you could go\n",
      "sit in a meeting in OpenAI or other companies, you'd be like, oh, these people are really\n",
      "kind of caring about this. Now we did make a change recently\n",
      "to how we think about one part of what's traditionally\n",
      "been understood as safety. Which is, with our new image model, we've given users much more freedom on what we would traditionally\n",
      "think about as speech harms. You know, if you try\n",
      "to get offended by the model, will the model let you be offended? And in the past, we've had much\n",
      "tighter guardrails on this. But I think part of model alignment is following what the user\n",
      "of a model wants it to do within the very broad bounds\n",
      "of what society decides. So if you ask the model to depict a bunch\n",
      "of violence or something like that or to sort of reinforce some stereotype, there's a question of whether\n",
      "or not it should do that. And we're taking a much more\n",
      "permissive stance. There's a place where that starts\n",
      "to interact with real-world harms that we have to figure out how\n",
      "to draw the line for, but, you know, I think there will be cases\n",
      "where a company says, OK, we've heard the feedback from society. People really don't want\n",
      "models to censor them in ways that they don't think make sense. That's a fair safety negotiation. CA: But to the extent\n",
      "that this is a collective, a problem of collective belief, the solution to those kinds\n",
      "of problems is to bring people together and meet at one point\n",
      "and make a different agreement. If there was a group of people, say,\n",
      "here or out there in the world who were willing to host a summit of the best ethicists, technologists, but not too many people, small, and you and your peers to try to crack what agreed safety\n",
      "lines could be across the world, would you be willing to attend? Would you urge your colleagues to come? SA: Of course,\n",
      "but I'm much more interested in what our hundreds of millions\n",
      "of users want as a whole. I think a lot of the room\n",
      "has historically been decided in small elite summits. One of the cool new things about AI\n",
      "is our AI can talk to everybody on Earth, and we can learn the collective\n",
      "value preference of what everybody wants, rather than have a bunch of people\n",
      "who are, like, blessed by society to sit in a room and make these decisions, I think that's very cool. (Applause) And I think you will see us\n",
      "do more in that direction. And when we have gotten things wrong, because the elites in the room\n",
      "had a different opinion about what people wanted\n",
      "for the guardrails on image-gen than what people actually wanted, and we couldn't point to real-world harm,\n",
      "so we made that change. I'm proud of that. (Applause) CA: There is a long track record\n",
      "of unintended consequences coming out of the actions\n",
      "of hundreds of millions of people. SA: Also 100 people\n",
      "in a room making a decision. CA: And the hundreds of millions of people\n",
      "don't have control over, they don't necessarily see\n",
      "what the next step could lead to. SA: I am hopeful that -- that is totally accurate\n",
      "and totally right -- I am hopeful that AI can help us be wiser,\n",
      "make better decisions, can talk to us, and if we say,\n",
      "hey, I want thing X, you know, rather than like,\n",
      "the crowds spin that up, AI can say, hey, totally\n",
      "understand that's what you want. If that's what you want\n",
      "at the end of this conversation, you're in control, you pick. But have you considered it\n",
      "from this person's perspective or the impact it will have on this? I think AI can help us be wiser and make better collective governance\n",
      "decisions than we could before. CA: We're out of time. Sam, I'll give you the last word. What kind of world do you believe, all things considered,\n",
      "your son will grow up into? SA: I remember -- it's so long ago now, I don't know when the first iPad came out. Is it like 15 years, something like that? I remember watching\n",
      "a YouTube video at the time, of like a little toddler sitting in a doctor's office\n",
      "waiting room or something, and there was a magazine,\n",
      "like one of those old, you know, glossy-cover magazines, and the toddler had his hand on it and was going like this and kind of angry. And to that toddler,\n",
      "it was like a broken iPad. And he never, she never thought\n",
      "of a world that didn't have, you know, touch screens in them. And to all the adults watching this, it was this amazing thing\n",
      "because it was like it's so new, it's so amazing,\n",
      "it's a miracle. Of course, you know, magazines\n",
      "are the way the world works. My kid, my kids hopefully,\n",
      "will never be smarter than AI. They will never grow up in a world where products and services\n",
      "are not incredibly smart, incredibly capable. They will never grow up in a world where computers don't just\n",
      "kind of understand you. And do, you know, for some definition\n",
      "of whatever you can imagine, whatever you can imagine. It'll be a world of incredible\n",
      "material abundance. It'll be a world where the rate of change is incredibly fast and amazing new things are happening. And it’ll be a world where,\n",
      "like individual ... ability, impact, whatever, is just so far beyond\n",
      "what a person can do today. I hope that my kids and all of your kids will look back at us with some like\n",
      "pity and nostalgia and be like, \"They lived\n",
      "such horrible lives. They were so limited. The world sucked so much.\" I think that's great. (Applause) CA: It's incredible what you've built. It really is, it's unbelievable. I think over the next few years,\n",
      "you're going to have some of the biggest opportunities,\n",
      "the biggest moral challenges, the biggest decisions to make of perhaps any human\n",
      "in history, pretty much. You should know that everyone\n",
      "here will be cheering you on to do the right thing. SA: We will do our best,\n",
      "thank you very much. CA: Thank you for coming to TED. (Applause) Thank you. SA: Thank you very much.\n"
     ]
    }
   ],
   "source": [
    "video_id = \"5MWT_doo68k\"\n",
    "try:\n",
    "    transcript_list = YouTubeTranscriptApi.get_transcript(video_id=video_id, languages=[\"en\"])\n",
    "    transcript = \" \".join(chunk[\"text\"] for chunk in transcript_list)\n",
    "    print(transcript)\n",
    "except TranscriptsDisabled:\n",
    "    print(\"Your video has no transcripts :(\")"
   ]
  },
  {
   "cell_type": "code",
   "execution_count": 8,
   "id": "4940eb85",
   "metadata": {},
   "outputs": [],
   "source": [
    "splitter = RecursiveCharacterTextSplitter(chunk_size=800, chunk_overlap = 100)\n",
    "chunks = splitter.create_documents([transcript])"
   ]
  },
  {
   "cell_type": "code",
   "execution_count": 9,
   "id": "6ccda31f",
   "metadata": {},
   "outputs": [
    {
     "data": {
      "text/plain": [
       "64"
      ]
     },
     "execution_count": 9,
     "metadata": {},
     "output_type": "execute_result"
    }
   ],
   "source": [
    "len(chunks)"
   ]
  },
  {
   "cell_type": "code",
   "execution_count": 10,
   "id": "4cdbb765",
   "metadata": {},
   "outputs": [
    {
     "data": {
      "text/plain": [
       "Document(metadata={}, page_content=\"on a conscious model or something that's capable of self-improvement\\nor anything like that. You know, I ... people have very different views of what\\nthe big AI risks are going to be. And I myself have like\\nevolved on thinking about where we're going to see those. I continue to believe there will come\\nvery powerful models that people can misuse in big ways. People talk a lot about the potential\\nfor new kinds of bioterror, models that can present\\nlike a real cybersecurity challenge, models that are capable\\nof self-improvement in a way that leads\\nto some sort of loss of control. So I think there are big risks there. And then there's a lot of other stuff, which honestly is kind of\\nwhat I think, many people mean, where people talk about disinformation or models saying things\")"
      ]
     },
     "execution_count": 10,
     "metadata": {},
     "output_type": "execute_result"
    }
   ],
   "source": [
    "chunks[22]"
   ]
  },
  {
   "cell_type": "code",
   "execution_count": 11,
   "id": "dd957155",
   "metadata": {},
   "outputs": [],
   "source": [
    "embeddings = OpenAIEmbeddings(model=\"text-embedding-3-small\")\n",
    "vector_store = FAISS.from_documents(chunks, embeddings)"
   ]
  },
  {
   "cell_type": "code",
   "execution_count": 12,
   "id": "425ce302",
   "metadata": {},
   "outputs": [
    {
     "data": {
      "text/plain": [
       "{0: 'aae5627d-68f5-49eb-963e-2a136b8d8e0e',\n",
       " 1: '49843663-a3f0-4f9c-8bc2-a30722517654',\n",
       " 2: 'db15e8a9-92e7-49be-bfb1-cf79eab85486',\n",
       " 3: '5c67410f-f1f2-4579-ba24-86ba96e15dbc',\n",
       " 4: '7fa37d91-a6db-43de-8e43-ce7fb4e4a8cd',\n",
       " 5: '99735b2a-f21a-467a-b019-0151de481baa',\n",
       " 6: '2febda66-0a6e-42b7-b3f5-5c99defcd13a',\n",
       " 7: '5da78733-8051-4148-b03a-b620e5b9b967',\n",
       " 8: '201362f5-dba9-46d0-95c4-82f44e81f342',\n",
       " 9: '7665b605-f638-4786-9a2b-c901699820ce',\n",
       " 10: '094eebfa-0381-4685-92d4-2382bcceddc2',\n",
       " 11: '0e7599d6-513b-41cb-bbee-36c186be25b7',\n",
       " 12: '897e725c-a608-4cc0-a043-b114be7ed075',\n",
       " 13: 'edbcc9a1-59ea-420b-ab83-257701249a63',\n",
       " 14: '57a8b0e3-db8c-4ec8-a349-1ad3e5226996',\n",
       " 15: 'bd40e1af-72c3-4b4e-887a-9674092988f2',\n",
       " 16: 'f53da324-5d39-4e00-838c-fc62cb4c1520',\n",
       " 17: '87a49f05-bb69-44d4-9576-676de250e587',\n",
       " 18: '4c91f304-ac52-4a63-abc8-4d590b258531',\n",
       " 19: '6b421c86-cbd0-4f18-b3d0-4859a3561220',\n",
       " 20: '00425d8d-961e-431e-9ab8-bf5c1b724caf',\n",
       " 21: 'f6d1451d-6bb2-4eed-acc7-73167187efe0',\n",
       " 22: 'beeb2489-8c61-446a-8fbf-6a0d60e31434',\n",
       " 23: '34d94b02-ec91-48d4-9e75-81fd6f875759',\n",
       " 24: '71c6a737-fdd5-4336-9b2b-5bb55539ef1e',\n",
       " 25: '4f0c983d-2198-4564-84d3-662e35d2569f',\n",
       " 26: 'ef1f5ba4-3e77-4993-a381-6d27b3096ff6',\n",
       " 27: '4ce92894-2e76-4842-9583-4ce74b2ca9c1',\n",
       " 28: 'c3c350c6-fff4-4e0b-8b00-947565f1fe1e',\n",
       " 29: '3206a87e-6745-4263-aff0-e225c78bb681',\n",
       " 30: 'b5841c98-e70e-4a9a-9bb8-e68e9e5317e6',\n",
       " 31: '256bcee0-d6d4-490f-bced-2856f38ca58e',\n",
       " 32: '1303c076-3935-4590-b4c6-2d3c8040b149',\n",
       " 33: '13f0cadc-a2f6-4b46-8e5d-ae298b76a5e3',\n",
       " 34: '2baeabff-11fb-412f-ad27-2644acf8d2db',\n",
       " 35: 'ba9a384f-4df7-405f-a53e-594693a52a3c',\n",
       " 36: '9b801663-65dd-4373-a4d4-8f29877e9ab1',\n",
       " 37: 'ffde1a79-8693-484e-ba84-844d0ffd679b',\n",
       " 38: '826b72fc-47e6-476f-9ed5-a05af9aa0c83',\n",
       " 39: '57b416b5-16ff-4387-8539-6c4625512f81',\n",
       " 40: 'f6562887-d6c4-4894-a45b-4e8c6c09226b',\n",
       " 41: '29896de9-e6bd-430f-959f-0cb8dbf6e703',\n",
       " 42: '6b744f61-6e1d-4731-bba3-9d290fcd15f8',\n",
       " 43: '220a5de4-0428-4bc4-90e0-729f9b70a753',\n",
       " 44: '17cf838a-4a8b-4036-8f83-42d845720256',\n",
       " 45: '07f56b31-4fcc-471c-805a-7bbf8ca0025f',\n",
       " 46: '1f01e281-d819-4bbb-89e7-a8430074ed57',\n",
       " 47: '7e15c714-0875-47fb-8777-aa6163c9c91a',\n",
       " 48: '2aaec044-e8a5-4957-8799-27f6e14215a8',\n",
       " 49: 'e62baed9-4654-4a06-b24a-f77e1084fe6d',\n",
       " 50: '8c3aae03-1f0e-405a-a921-7f1e6b4b3008',\n",
       " 51: '157f24c9-2325-43d2-97cf-826a76ec3005',\n",
       " 52: '630d6f26-485b-4144-a1f2-c4c2d057fa78',\n",
       " 53: '507ffb8b-39f8-4c27-9dbd-fcccaeb9169e',\n",
       " 54: 'ba842905-e734-487b-a06a-b393df33f310',\n",
       " 55: 'ed8b0c9e-2a0d-4a79-8efd-65b25a12611e',\n",
       " 56: 'd811ede9-94b5-4f56-81ed-d80afb197e36',\n",
       " 57: '8886e36c-1b13-4dc3-9ee8-aba3d3cc5e56',\n",
       " 58: 'ad1a4723-a9e7-497a-ac18-82fb580b5f1d',\n",
       " 59: 'aff6d770-09fe-4bf6-8380-9f4809506178',\n",
       " 60: '0eaccc7b-87f3-40eb-a309-0ba352e7bbdd',\n",
       " 61: 'b73960f8-fa32-4437-a9e1-c2afc6f2fbda',\n",
       " 62: 'bcc680a9-996c-41fb-b4f3-8cebc14dc222',\n",
       " 63: '24eae1da-6dd0-4c68-9f03-ff48d70dd9a5'}"
      ]
     },
     "execution_count": 12,
     "metadata": {},
     "output_type": "execute_result"
    }
   ],
   "source": [
    "vector_store.index_to_docstore_id"
   ]
  },
  {
   "cell_type": "code",
   "execution_count": 13,
   "id": "3dd9bee7",
   "metadata": {},
   "outputs": [
    {
     "data": {
      "text/plain": [
       "[Document(id='0eaccc7b-87f3-40eb-a309-0ba352e7bbdd', metadata={}, page_content=\"at the end of this conversation, you're in control, you pick. But have you considered it\\nfrom this person's perspective or the impact it will have on this? I think AI can help us be wiser and make better collective governance\\ndecisions than we could before. CA: We're out of time. Sam, I'll give you the last word. What kind of world do you believe, all things considered,\\nyour son will grow up into? SA: I remember -- it's so long ago now, I don't know when the first iPad came out. Is it like 15 years, something like that? I remember watching\\na YouTube video at the time, of like a little toddler sitting in a doctor's office\\nwaiting room or something, and there was a magazine,\")]"
      ]
     },
     "execution_count": 13,
     "metadata": {},
     "output_type": "execute_result"
    }
   ],
   "source": [
    "vector_store.get_by_ids(['0eaccc7b-87f3-40eb-a309-0ba352e7bbdd'])"
   ]
  },
  {
   "cell_type": "code",
   "execution_count": 14,
   "id": "c0874e27",
   "metadata": {},
   "outputs": [],
   "source": [
    "retriever = vector_store.as_retriever(search_type = \"similarity\", search_kwargs = {\"k\":4})"
   ]
  },
  {
   "cell_type": "code",
   "execution_count": 15,
   "id": "862899e3",
   "metadata": {},
   "outputs": [
    {
     "data": {
      "text/plain": [
       "VectorStoreRetriever(tags=['FAISS', 'OpenAIEmbeddings'], vectorstore=<langchain_community.vectorstores.faiss.FAISS object at 0x11a3c63e0>, search_kwargs={'k': 4})"
      ]
     },
     "execution_count": 15,
     "metadata": {},
     "output_type": "execute_result"
    }
   ],
   "source": [
    "retriever"
   ]
  },
  {
   "cell_type": "code",
   "execution_count": 16,
   "id": "333af337",
   "metadata": {},
   "outputs": [
    {
     "data": {
      "text/plain": [
       "[Document(id='220a5de4-0428-4bc4-90e0-729f9b70a753', metadata={}, page_content=\"to one dimension here. You know, probably some\\nof the good things are true and probably some\\nof the criticism is true. In terms of OpenAI, our goal is to make AGI and distribute it, make it safe, for the broad\\nbenefit of humanity. I think by all accounts,\\nwe have done a lot in that direction. Clearly our tactics\\nhave shifted over time. I think we didn't really know\\nwhat we were going to be when we grew up. We didn't think we would have\\nto build a company around this. We learned a lot about how it goes and the realities of what these systems\\nwere going to take from capital. But I think we've been, in terms of putting incredibly capable AI with a high degree of safety\\nin the hands of a lot of people, and giving them tools to sort of do whatever amazing\"),\n",
       " Document(id='6b744f61-6e1d-4731-bba3-9d290fcd15f8', metadata={}, page_content=\"that was much more powerful than anything being done. I mean, it is amazing what you've built. But the other narrative\\nis that you have shifted ground, that you've shifted from being OpenAI, this open thing, to the allure of building\\nsomething super powerful. And you know, you’ve lost\\nsome of your key people. There's a narrative out there. Some people believe that you're not\\nto be trusted in this space. I would love to know who you are. What is your narrative about yourself? What are your core values, Sam, that can give us, the world, confidence that someone with so much\\npower here is entitled to it? SA: Look, I think like anyone else,\\nI'm a nuanced character that doesn't reduce well\\nto one dimension here. You know, probably some\\nof the good things are true and probably some\"),\n",
       " Document(id='4c91f304-ac52-4a63-abc8-4d590b258531', metadata={}, page_content=\"sooner than we think. SA: I don't think it will happen\\nexactly like that, but yeah, I think something\\nin the direction where AI -- you don’t have to just,\\nlike, go to ChatGPT or whatever and say, I have a question,\\ngive me an answer. But you're getting like,\\nproactively pushed things that help you, that make you better or whatever. That does seem like it's soon. CA: So what have you seen\\nthat's coming up, internally, that you think is going\\nto blow people's minds? Give us at least a hint\\nof what the next big jaw dropper is. SA: The thing that I'm personally\\nmost excited about is AI for science at this point. I am a big believer that the most important\\ndriver of the world and people's lives getting better\"),\n",
       " Document(id='ed8b0c9e-2a0d-4a79-8efd-65b25a12611e', metadata={}, page_content=\"to put out models quickly and make great products for people. But people feel the impact\\nof this so incredibly that ... you know, I think if you could go\\nsit in a meeting in OpenAI or other companies, you'd be like, oh, these people are really\\nkind of caring about this. Now we did make a change recently\\nto how we think about one part of what's traditionally\\nbeen understood as safety. Which is, with our new image model, we've given users much more freedom on what we would traditionally\\nthink about as speech harms. You know, if you try\\nto get offended by the model, will the model let you be offended? And in the past, we've had much\\ntighter guardrails on this. But I think part of model alignment is following what the user\\nof a model wants it to do within the very broad bounds\")]"
      ]
     },
     "execution_count": 16,
     "metadata": {},
     "output_type": "execute_result"
    }
   ],
   "source": [
    "retriever.invoke(\"What did Sam Atlan say about OpenAI?\")"
   ]
  },
  {
   "cell_type": "code",
   "execution_count": 17,
   "id": "2b3bc227",
   "metadata": {},
   "outputs": [],
   "source": [
    "llm = ChatOpenAI(model = \"gpt-4o-mini\", temperature = 0.2)"
   ]
  },
  {
   "cell_type": "code",
   "execution_count": 19,
   "id": "a1051464",
   "metadata": {},
   "outputs": [],
   "source": [
    "prompt = PromptTemplate(\n",
    "    template = '''\n",
    "You are a helpful assistant. Answer ONLY from the provided transcript context. \n",
    "If the context is insufficient, just say you don't know.\n",
    "{context}\n",
    "Question: {question}\n",
    "''',\n",
    "input_variables=['context', 'question']\n",
    ")"
   ]
  },
  {
   "cell_type": "code",
   "execution_count": 20,
   "id": "6b1f28b9",
   "metadata": {},
   "outputs": [],
   "source": [
    "question = \"Was there any discussion about Deepseek? If yes, what was being discussed about it?\"\n",
    "retrieved_docs = retriever.invoke(question)"
   ]
  },
  {
   "cell_type": "code",
   "execution_count": 21,
   "id": "3eb570fa",
   "metadata": {},
   "outputs": [
    {
     "data": {
      "text/plain": [
       "[Document(id='897e725c-a608-4cc0-a043-b114be7ed075', metadata={}, page_content=\"than DeepSeek allegedly spent, although I know there's\\ncontroversy around that. Are you confident that the actual\\nbetter model is going to be recognized? Or are you actually like, isn't this in some ways life-threatening\\nto the notion that, yeah, by going to massive scale,\\ntens of billions of dollars of investment, we can maintain an incredible lead. SA: All day long, I call people\\nand beg them to give us their GPUs. We are so incredibly constrained. Our growth is going like this. DeepSeek launched,\\nand it didn’t seem to impact it. There's other stuff that's happening. CA: Tell us about the growth, actually. You gave me a shocking\\nnumber backstage there. SA: I have never seen\"),\n",
       " Document(id='0e7599d6-513b-41cb-bbee-36c186be25b7', metadata={}, page_content=\"hosted our first community session to kind of decide the parameters\\nof our open-source model and how we want to shape it. We're going to do a very\\npowerful open-source model. I think this is important. We're going to do something\\nnear the frontier, I think, better than any current\\nopen-source model out there. This will not be all -- there will be people who will use this\\nin ways that some people in this room, maybe you or I, don’t like. But there is going to be an important\\nplace for open-source models as part of the constellation here. And, you know, I think\\nwe were late to act on that, but we're going to do it really well now. CA: I mean, you're spending\\nit seems, like an order, or even orders of magnitude more\\nthan DeepSeek allegedly spent, although I know there's\"),\n",
       " Document(id='094eebfa-0381-4685-92d4-2382bcceddc2', metadata={}, page_content=\"in a prompt names someone. SA: Well, again,\\nright now, if you try to like, go generate an image in a named style, we just say that artist\\nis living, we don't do it. But I think it would be cool to figure out a new model\\nwhere if you say, I want to do it in the name\\nof this artist and they opt in, there's a revenue model there. I think that's a good thing to explore. CA: So, I think the world should help you\\nfigure out that model quickly. And I think it will make\\na huge difference actually. I want to switch topics quickly. (Applause) The battle between\\nyour model and open source. How much were you shaken up\\nby the arrival of DeepSeek? SA: I think open source\\nhas an important place. We actually, just last night,\\nhosted our first community session to kind of decide the parameters\"),\n",
       " Document(id='34d94b02-ec91-48d4-9e75-81fd6f875759', metadata={}, page_content=\"what I think, many people mean, where people talk about disinformation or models saying things\\nthat they don't like or things like that. CA: Sticking with the first of those, do you check for that\\ninternally before release? SA: Of course, yeah. So we have this preparedness framework that outlines how we do that. CA: I mean, you've had some\\ndepartures from your safety team. How many people have departed,\\nwhy have they left? SA: We have, I don't know\\nthe exact number, but there are clearly different views\\nabout AI safety systems. I would really point to our track record. There are people who will say\\nall sorts of things. You know, something like 10 percent\\nof the world uses our systems now a lot. And we are very proud\\nof the safety track record. CA: But track record\")]"
      ]
     },
     "execution_count": 21,
     "metadata": {},
     "output_type": "execute_result"
    }
   ],
   "source": [
    "retrieved_docs"
   ]
  },
  {
   "cell_type": "code",
   "execution_count": 22,
   "id": "0da24b7c",
   "metadata": {},
   "outputs": [
    {
     "data": {
      "text/plain": [
       "\"than DeepSeek allegedly spent, although I know there's\\ncontroversy around that. Are you confident that the actual\\nbetter model is going to be recognized? Or are you actually like, isn't this in some ways life-threatening\\nto the notion that, yeah, by going to massive scale,\\ntens of billions of dollars of investment, we can maintain an incredible lead. SA: All day long, I call people\\nand beg them to give us their GPUs. We are so incredibly constrained. Our growth is going like this. DeepSeek launched,\\nand it didn’t seem to impact it. There's other stuff that's happening. CA: Tell us about the growth, actually. You gave me a shocking\\nnumber backstage there. SA: I have never seen\\n\\nhosted our first community session to kind of decide the parameters\\nof our open-source model and how we want to shape it. We're going to do a very\\npowerful open-source model. I think this is important. We're going to do something\\nnear the frontier, I think, better than any current\\nopen-source model out there. This will not be all -- there will be people who will use this\\nin ways that some people in this room, maybe you or I, don’t like. But there is going to be an important\\nplace for open-source models as part of the constellation here. And, you know, I think\\nwe were late to act on that, but we're going to do it really well now. CA: I mean, you're spending\\nit seems, like an order, or even orders of magnitude more\\nthan DeepSeek allegedly spent, although I know there's\\n\\nin a prompt names someone. SA: Well, again,\\nright now, if you try to like, go generate an image in a named style, we just say that artist\\nis living, we don't do it. But I think it would be cool to figure out a new model\\nwhere if you say, I want to do it in the name\\nof this artist and they opt in, there's a revenue model there. I think that's a good thing to explore. CA: So, I think the world should help you\\nfigure out that model quickly. And I think it will make\\na huge difference actually. I want to switch topics quickly. (Applause) The battle between\\nyour model and open source. How much were you shaken up\\nby the arrival of DeepSeek? SA: I think open source\\nhas an important place. We actually, just last night,\\nhosted our first community session to kind of decide the parameters\\n\\nwhat I think, many people mean, where people talk about disinformation or models saying things\\nthat they don't like or things like that. CA: Sticking with the first of those, do you check for that\\ninternally before release? SA: Of course, yeah. So we have this preparedness framework that outlines how we do that. CA: I mean, you've had some\\ndepartures from your safety team. How many people have departed,\\nwhy have they left? SA: We have, I don't know\\nthe exact number, but there are clearly different views\\nabout AI safety systems. I would really point to our track record. There are people who will say\\nall sorts of things. You know, something like 10 percent\\nof the world uses our systems now a lot. And we are very proud\\nof the safety track record. CA: But track record\""
      ]
     },
     "execution_count": 22,
     "metadata": {},
     "output_type": "execute_result"
    }
   ],
   "source": [
    "context = \"\\n\\n\".join(doc.page_content for doc in retrieved_docs)\n",
    "context"
   ]
  },
  {
   "cell_type": "code",
   "execution_count": 23,
   "id": "fff6278b",
   "metadata": {},
   "outputs": [],
   "source": [
    "final_prompt = prompt.invoke({'context': context, 'question':question})"
   ]
  },
  {
   "cell_type": "code",
   "execution_count": 24,
   "id": "e6e6a59a",
   "metadata": {},
   "outputs": [
    {
     "data": {
      "text/plain": [
       "StringPromptValue(text=\"\\nYou are a helpful assistant. Answer ONLY from the provided transcript context. \\nIf the context is insufficient, just say you don't know.\\nthan DeepSeek allegedly spent, although I know there's\\ncontroversy around that. Are you confident that the actual\\nbetter model is going to be recognized? Or are you actually like, isn't this in some ways life-threatening\\nto the notion that, yeah, by going to massive scale,\\ntens of billions of dollars of investment, we can maintain an incredible lead. SA: All day long, I call people\\nand beg them to give us their GPUs. We are so incredibly constrained. Our growth is going like this. DeepSeek launched,\\nand it didn’t seem to impact it. There's other stuff that's happening. CA: Tell us about the growth, actually. You gave me a shocking\\nnumber backstage there. SA: I have never seen\\n\\nhosted our first community session to kind of decide the parameters\\nof our open-source model and how we want to shape it. We're going to do a very\\npowerful open-source model. I think this is important. We're going to do something\\nnear the frontier, I think, better than any current\\nopen-source model out there. This will not be all -- there will be people who will use this\\nin ways that some people in this room, maybe you or I, don’t like. But there is going to be an important\\nplace for open-source models as part of the constellation here. And, you know, I think\\nwe were late to act on that, but we're going to do it really well now. CA: I mean, you're spending\\nit seems, like an order, or even orders of magnitude more\\nthan DeepSeek allegedly spent, although I know there's\\n\\nin a prompt names someone. SA: Well, again,\\nright now, if you try to like, go generate an image in a named style, we just say that artist\\nis living, we don't do it. But I think it would be cool to figure out a new model\\nwhere if you say, I want to do it in the name\\nof this artist and they opt in, there's a revenue model there. I think that's a good thing to explore. CA: So, I think the world should help you\\nfigure out that model quickly. And I think it will make\\na huge difference actually. I want to switch topics quickly. (Applause) The battle between\\nyour model and open source. How much were you shaken up\\nby the arrival of DeepSeek? SA: I think open source\\nhas an important place. We actually, just last night,\\nhosted our first community session to kind of decide the parameters\\n\\nwhat I think, many people mean, where people talk about disinformation or models saying things\\nthat they don't like or things like that. CA: Sticking with the first of those, do you check for that\\ninternally before release? SA: Of course, yeah. So we have this preparedness framework that outlines how we do that. CA: I mean, you've had some\\ndepartures from your safety team. How many people have departed,\\nwhy have they left? SA: We have, I don't know\\nthe exact number, but there are clearly different views\\nabout AI safety systems. I would really point to our track record. There are people who will say\\nall sorts of things. You know, something like 10 percent\\nof the world uses our systems now a lot. And we are very proud\\nof the safety track record. CA: But track record\\nQuestion: Was there any discussion about Deepseek? If yes, what was being discussed about it?\\n\")"
      ]
     },
     "execution_count": 24,
     "metadata": {},
     "output_type": "execute_result"
    }
   ],
   "source": [
    "final_prompt"
   ]
  },
  {
   "cell_type": "code",
   "execution_count": 25,
   "id": "ebbd3e1c",
   "metadata": {},
   "outputs": [
    {
     "name": "stdout",
     "output_type": "stream",
     "text": [
      "Yes, there was discussion about DeepSeek. The conversation touched on the impact of DeepSeek's launch, with SA mentioning that it didn't seem to affect their growth. There was also a comparison of spending, with CA noting that they seem to be spending significantly more than DeepSeek. Additionally, SA expressed a belief that open-source models have an important place in the ecosystem, indicating that they were late to act on that but plan to do it well now.\n"
     ]
    }
   ],
   "source": [
    "response = llm.invoke(final_prompt)\n",
    "print(response.content)"
   ]
  },
  {
   "cell_type": "markdown",
   "id": "9af9eb1e",
   "metadata": {},
   "source": [
    "Chaining"
   ]
  },
  {
   "cell_type": "code",
   "execution_count": 26,
   "id": "cd76c6a4",
   "metadata": {},
   "outputs": [],
   "source": [
    "from langchain_core.runnables import RunnableParallel, RunnablePassthrough, RunnableLambda\n",
    "from langchain_core.output_parsers import StrOutputParser"
   ]
  },
  {
   "cell_type": "code",
   "execution_count": 27,
   "id": "39b1eaeb",
   "metadata": {},
   "outputs": [],
   "source": [
    "def format_docs(retrieved_docs):\n",
    "    context = '\\n\\n'.join(doc.page_content for doc in retrieved_docs)\n",
    "    return context"
   ]
  },
  {
   "cell_type": "code",
   "execution_count": 28,
   "id": "7f14aac1",
   "metadata": {},
   "outputs": [],
   "source": [
    "parallel_chain = RunnableParallel(\n",
    "    {\n",
    "        'context': retriever|RunnableLambda(format_docs),\n",
    "        'question': RunnablePassthrough()\n",
    "    }\n",
    ")"
   ]
  },
  {
   "cell_type": "code",
   "execution_count": 29,
   "id": "2b1fd2e1",
   "metadata": {},
   "outputs": [
    {
     "data": {
      "text/plain": [
       "{'context': 'Chris Anderson: Sam, welcome to TED. Thank you so much for coming. Sam Altman: Thank you. It\\'s an honor. CA: Your company has been releasing\\ncrazy insane new models   pretty much every other week\\nit feels like. I\\'ve been playing with a couple of them. I\\'d like to show you\\nwhat I\\'ve been playing. So, Sora, this is the image\\nand video generator. I asked Sora this: What will it look like when you share\\nsome shocking revelations here at TED? You want to see\\nhow it imagined it, you know? (Laughter) I mean, not bad, right? How would you grade that? Five fingers on all hands. SA: Very close to what I\\'m wearing,\\nyou know, it\\'s good. CA: I\\'ve never seen you\\n\\nare getting more capable, we have a system where we all\\nget to understand what\\'s being released in the world. I think this is really important. And I think we’re not far away\\nfrom models that are going to be of great public interest in that sense. CA: So Sam, I asked\\nyour o1-pro reasoning model, which is incredibly -- SA: Thank you for the 200 dollars. CA: (Laughs) 200 dollars a month. It\\'s a bargain at the price. I said, what is the single most\\npenetrating question I could ask you? It thought about it for two minutes. Two minutes. You want to see the question? SA: I do. CA: \"Sam, given that you\\'re\\nhelping create technology that could reshape the destiny\\nof our entire species, who granted you (or anyone)\\nthe moral authority to do that?” (Laughter) \"And how are you personally\\n\\nthat was much more powerful than anything being done. I mean, it is amazing what you\\'ve built. But the other narrative\\nis that you have shifted ground, that you\\'ve shifted from being OpenAI, this open thing, to the allure of building\\nsomething super powerful. And you know, you’ve lost\\nsome of your key people. There\\'s a narrative out there. Some people believe that you\\'re not\\nto be trusted in this space. I would love to know who you are. What is your narrative about yourself? What are your core values, Sam, that can give us, the world, confidence that someone with so much\\npower here is entitled to it? SA: Look, I think like anyone else,\\nI\\'m a nuanced character that doesn\\'t reduce well\\nto one dimension here. You know, probably some\\nof the good things are true and probably some\\n\\nover the course of your lifetime. And we have a lot more stuff\\nto come to build like this great integrated product. And, you know, I think\\npeople will stick with that. So there will be many models,\\nbut I think we will, I hope, continue to focus on building the best\\ndefining product in this space. CA: I mean after I saw\\nyour announcement yesterday that ChatGPT will know all\\nof your query history, I entered, \"Tell me about me, ChatGPT, from all you know.\" And my jaw dropped, Sam, it was shocking. It knew who I was\\nand all these sort of interests that hopefully mostly were\\npretty much appropriate and shareable. But it was astonishing. And I felt the sense of real excitement, a little bit queasy, but mainly excitement, actually, at how much more that would allow it',\n",
       " 'question': 'What did Sam Altan say about their new developments?'}"
      ]
     },
     "execution_count": 29,
     "metadata": {},
     "output_type": "execute_result"
    }
   ],
   "source": [
    "parallel_chain.invoke('What did Sam Altan say about their new developments?')"
   ]
  },
  {
   "cell_type": "code",
   "execution_count": 30,
   "id": "a2ca6bc6",
   "metadata": {},
   "outputs": [],
   "source": [
    " parser = StrOutputParser()"
   ]
  },
  {
   "cell_type": "code",
   "execution_count": 31,
   "id": "3e81fcfc",
   "metadata": {},
   "outputs": [],
   "source": [
    "chain = parallel_chain | prompt | llm | parser"
   ]
  },
  {
   "cell_type": "code",
   "execution_count": 32,
   "id": "7cf2288a",
   "metadata": {},
   "outputs": [
    {
     "data": {
      "text/plain": [
       "'The key takeaway from the video is the discussion around the development of advanced AI and the responsibilities that come with it. There is a recognition of the potential risks and the importance of creating a framework to mitigate those risks while also emphasizing the need for collective input from the global population rather than decisions being made solely by a small elite. The conversation highlights the balance between innovation and safety in AI development, as well as the importance of transparency and trust in the process.'"
      ]
     },
     "execution_count": 32,
     "metadata": {},
     "output_type": "execute_result"
    }
   ],
   "source": [
    "chain.invoke(\"What's the key takeaway from this video?\")"
   ]
  }
 ],
 "metadata": {
  "kernelspec": {
   "display_name": "Python 3",
   "language": "python",
   "name": "python3"
  },
  "language_info": {
   "codemirror_mode": {
    "name": "ipython",
    "version": 3
   },
   "file_extension": ".py",
   "mimetype": "text/x-python",
   "name": "python",
   "nbconvert_exporter": "python",
   "pygments_lexer": "ipython3",
   "version": "3.10.16"
  }
 },
 "nbformat": 4,
 "nbformat_minor": 5
}
